{
 "metadata": {
  "name": "",
  "signature": "sha256:e27ed26d5c23ce53bcc43fbd528760affe32caf1b1172ac3a433d970dd455c4d"
 },
 "nbformat": 3,
 "nbformat_minor": 0,
 "worksheets": [
  {
   "cells": [
    {
     "cell_type": "code",
     "collapsed": false,
     "input": [
      "import png\n",
      "import numpy as np\n",
      "import itertools\n",
      "\n",
      "def loadPngTo8BitBinaryArray(fname):\n",
      "    with open(fname, 'r') as f:\n",
      "        r = png.Reader(f)\n",
      "        d = r.read()\n",
      "        image_array = np.vstack(d[2])\n",
      "\n",
      "    normed = (image_array/255.0*15.0).astype(np.uint8)\n",
      "    unormed = np.unpackbits(normed[:, :, None], 2)\n",
      "        \n",
      "    return unormed\n",
      "\n",
      "def mungeArrays(data, shadows):\n",
      "    combined = np.zeros(data.shape, dtype=np.uint8)\n",
      "    combined[:, :, :4] = data[:, :, 4:] # numbers have been converted to 8 bit\n",
      "    combined[:, :, 4:] = shadows[:, :, 4:] # so we only need to minor 4 bits\n",
      "    \n",
      "    return np.packbits(combined, 2)[:,:,0]\n",
      "\n",
      "def write_array(array, savep):\n",
      "    png_writer = png.Writer(height=4096, width=4096, bitdepth=8)\n",
      "    with open(savep, 'wb') as f:\n",
      "        png_writer.write(f, array)"
     ],
     "language": "python",
     "metadata": {},
     "outputs": [],
     "prompt_number": 5
    },
    {
     "cell_type": "code",
     "collapsed": false,
     "input": [
      "data = loadPngTo8BitBinaryArray(\"/Users/niall/Downloads/cloud_frac_padded_623_812_70_4096_4096.png\")"
     ],
     "language": "python",
     "metadata": {},
     "outputs": [],
     "prompt_number": 2
    },
    {
     "cell_type": "code",
     "collapsed": false,
     "input": [
      "shadows = loadPngTo8BitBinaryArray(\"/Users/niall/Downloads/lighting_noalpha.png\")"
     ],
     "language": "python",
     "metadata": {},
     "outputs": [],
     "prompt_number": 6
    },
    {
     "cell_type": "code",
     "collapsed": false,
     "input": [
      "both = mungeArrays(data, shadows)"
     ],
     "language": "python",
     "metadata": {},
     "outputs": [],
     "prompt_number": 7
    },
    {
     "cell_type": "code",
     "collapsed": false,
     "input": [
      "write_array(both, \"./cloudnshadows_623_812_70_4096_4096.png\")"
     ],
     "language": "python",
     "metadata": {},
     "outputs": [],
     "prompt_number": 9
    },
    {
     "cell_type": "heading",
     "level": 4,
     "metadata": {},
     "source": [
      "Test decoding the image"
     ]
    },
    {
     "cell_type": "code",
     "collapsed": false,
     "input": [
      "with open(\"./cloudnshadows_623_812_70_4096_4096.png\", 'r') as f:\n",
      "    r = png.Reader(f)\n",
      "    d = r.read()\n",
      "    image_array = np.vstack(d[2])"
     ],
     "language": "python",
     "metadata": {},
     "outputs": [],
     "prompt_number": 15
    },
    {
     "cell_type": "code",
     "collapsed": false,
     "input": [
      "bitsin = np.unpackbits(image_array[:, :, None].astype(np.uint8), 2)"
     ],
     "language": "python",
     "metadata": {},
     "outputs": [],
     "prompt_number": 18
    },
    {
     "cell_type": "code",
     "collapsed": false,
     "input": [
      "equal = shadows[:, :, 4:] == bitsin[:, :, 4:]"
     ],
     "language": "python",
     "metadata": {},
     "outputs": [],
     "prompt_number": 51
    },
    {
     "cell_type": "code",
     "collapsed": false,
     "input": [
      "from __future__ import division\n",
      "print equal.sum() / (4096*12288*4)"
     ],
     "language": "python",
     "metadata": {},
     "outputs": [
      {
       "output_type": "stream",
       "stream": "stdout",
       "text": [
        "1.0\n"
       ]
      }
     ],
     "prompt_number": 52
    },
    {
     "cell_type": "code",
     "collapsed": false,
     "input": [
      "import iris\n",
      "d = iris.load_cube(\"/Users/niall/Downloads/cloud_frac.nc\")"
     ],
     "language": "python",
     "metadata": {},
     "outputs": [],
     "prompt_number": 1
    },
    {
     "cell_type": "code",
     "collapsed": false,
     "input": [
      "a = 810 * 621 * 65\n",
      "b = 4096* 4096 * 2\n",
      "\n",
      "print b / a"
     ],
     "language": "python",
     "metadata": {},
     "outputs": [
      {
       "output_type": "stream",
       "stream": "stdout",
       "text": [
        "1.02626594058\n"
       ]
      }
     ],
     "prompt_number": 61
    },
    {
     "cell_type": "code",
     "collapsed": false,
     "input": [
      "print d.coord(\"level_height\")"
     ],
     "language": "python",
     "metadata": {},
     "outputs": [
      {
       "output_type": "stream",
       "stream": "stdout",
       "text": [
        "AuxCoord(array([  5.00000000e+00,   2.16666640e+01,   4.50000000e+01,\n",
        "         7.50000000e+01,   1.11666680e+02,   1.55000000e+02,\n",
        "         2.05000000e+02,   2.61666680e+02,   3.25000000e+02,\n",
        "         3.95000000e+02,   4.71666800e+02,   5.55000000e+02,\n",
        "         6.45000000e+02,   7.41666800e+02,   8.45000000e+02,\n",
        "         9.55000000e+02,   1.07166680e+03,   1.19500000e+03,\n",
        "         1.32500000e+03,   1.46166680e+03,   1.60500000e+03,\n",
        "         1.75500000e+03,   1.91166680e+03,   2.07500000e+03,\n",
        "         2.24500040e+03,   2.42166680e+03,   2.60500000e+03,\n",
        "         2.79500000e+03,   2.99166680e+03,   3.19500000e+03,\n",
        "         3.40500000e+03,   3.62166680e+03,   3.84500000e+03,\n",
        "         4.07500000e+03,   4.31166800e+03,   4.55500000e+03,\n",
        "         4.80500000e+03,   5.06166800e+03,   5.32500000e+03,\n",
        "         5.59500000e+03,   5.87166800e+03,   6.15500800e+03,\n",
        "         6.44514800e+03,   6.74249200e+03,   7.04781600e+03,\n",
        "         7.36236000e+03,   7.68792000e+03,   8.02692800e+03,\n",
        "         8.38258000e+03,   8.75891600e+03,   9.16094400e+03,\n",
        "         9.59476000e+03,   1.00676680e+04,   1.05883080e+04,\n",
        "         1.11667960e+04,   1.18148680e+04,   1.25460240e+04,\n",
        "         1.33756760e+04,   1.43213200e+04,   1.54027040e+04,\n",
        "         1.66419840e+04,   1.80639080e+04,   1.96960280e+04,\n",
        "         2.15688520e+04,   2.37160640e+04,   2.61747160e+04,\n",
        "         2.89854600e+04,   3.21927320e+04,   3.58450040e+04,\n",
        "         4.00000000e+04]), bounds=array([[  0.00000000e+00,   1.33333320e+01],\n",
        "       [  1.33333320e+01,   3.33333320e+01],\n",
        "       [  3.33333320e+01,   6.00000000e+01],\n",
        "       [  6.00000000e+01,   9.33333200e+01],\n",
        "       [  9.33333200e+01,   1.33333320e+02],\n",
        "       [  1.33333320e+02,   1.80000000e+02],\n",
        "       [  1.80000000e+02,   2.33333320e+02],\n",
        "       [  2.33333320e+02,   2.93333320e+02],\n",
        "       [  2.93333320e+02,   3.60000000e+02],\n",
        "       [  3.60000000e+02,   4.33333200e+02],\n",
        "       [  4.33333200e+02,   5.13333200e+02],\n",
        "       [  5.13333200e+02,   6.00000000e+02],\n",
        "       [  6.00000000e+02,   6.93333200e+02],\n",
        "       [  6.93333200e+02,   7.93333200e+02],\n",
        "       [  7.93333200e+02,   9.00000000e+02],\n",
        "       [  9.00000000e+02,   1.01333320e+03],\n",
        "       [  1.01333320e+03,   1.13333320e+03],\n",
        "       [  1.13333320e+03,   1.26000000e+03],\n",
        "       [  1.26000000e+03,   1.39333320e+03],\n",
        "       [  1.39333320e+03,   1.53333320e+03],\n",
        "       [  1.53333320e+03,   1.68000000e+03],\n",
        "       [  1.68000000e+03,   1.83333320e+03],\n",
        "       [  1.83333320e+03,   1.99333320e+03],\n",
        "       [  1.99333320e+03,   2.16000000e+03],\n",
        "       [  2.16000000e+03,   2.33333360e+03],\n",
        "       [  2.33333360e+03,   2.51333360e+03],\n",
        "       [  2.51333360e+03,   2.70000000e+03],\n",
        "       [  2.70000000e+03,   2.89333360e+03],\n",
        "       [  2.89333360e+03,   3.09333320e+03],\n",
        "       [  3.09333320e+03,   3.30000000e+03],\n",
        "       [  3.30000000e+03,   3.51333320e+03],\n",
        "       [  3.51333320e+03,   3.73333320e+03],\n",
        "       [  3.73333320e+03,   3.96000000e+03],\n",
        "       [  3.96000000e+03,   4.19333200e+03],\n",
        "       [  4.19333200e+03,   4.43333200e+03],\n",
        "       [  4.43333200e+03,   4.68000000e+03],\n",
        "       [  4.68000000e+03,   4.93333200e+03],\n",
        "       [  4.93333200e+03,   5.19333200e+03],\n",
        "       [  5.19333200e+03,   5.46000000e+03],\n",
        "       [  5.46000000e+03,   5.73333200e+03],\n",
        "       [  5.73333200e+03,   6.01333600e+03],\n",
        "       [  6.01333600e+03,   6.30008000e+03],\n",
        "       [  6.30008000e+03,   6.59382000e+03],\n",
        "       [  6.59382000e+03,   6.89515600e+03],\n",
        "       [  6.89515600e+03,   7.20508800e+03],\n",
        "       [  7.20508800e+03,   7.52514000e+03],\n",
        "       [  7.52514000e+03,   7.85742400e+03],\n",
        "       [  7.85742400e+03,   8.20475600e+03],\n",
        "       [  8.20475600e+03,   8.57074800e+03],\n",
        "       [  8.57074800e+03,   8.95992800e+03],\n",
        "       [  8.95992800e+03,   9.37785200e+03],\n",
        "       [  9.37785200e+03,   9.83121200e+03],\n",
        "       [  9.83121200e+03,   1.03279880e+04],\n",
        "       [  1.03279880e+04,   1.08775520e+04],\n",
        "       [  1.08775520e+04,   1.14908320e+04],\n",
        "       [  1.14908320e+04,   1.21804480e+04],\n",
        "       [  1.21804480e+04,   1.29608480e+04],\n",
        "       [  1.29608480e+04,   1.38484960e+04],\n",
        "       [  1.38484960e+04,   1.48620120e+04],\n",
        "       [  1.48620120e+04,   1.60223440e+04],\n",
        "       [  1.60223440e+04,   1.73529440e+04],\n",
        "       [  1.73529440e+04,   1.88799680e+04],\n",
        "       [  1.88799680e+04,   2.06324400e+04],\n",
        "       [  2.06324400e+04,   2.26424560e+04],\n",
        "       [  2.26424560e+04,   2.49453920e+04],\n",
        "       [  2.49453920e+04,   2.75800880e+04],\n",
        "       [  2.75800880e+04,   3.05890960e+04],\n",
        "       [  3.05890960e+04,   3.40188680e+04],\n",
        "       [  3.40188680e+04,   3.79225000e+04],\n",
        "       [  3.79225000e+04,   4.20775000e+04]]), standard_name=None, units=Unit('m'), long_name=u'level_height', var_name='level_height', attributes={'positive': 'up'})\n"
       ]
      }
     ],
     "prompt_number": 3
    },
    {
     "cell_type": "code",
     "collapsed": false,
     "input": [
      "plt.show()"
     ],
     "language": "python",
     "metadata": {},
     "outputs": []
    },
    {
     "cell_type": "heading",
     "level": 4,
     "metadata": {},
     "source": [
      "Write videoa"
     ]
    },
    {
     "cell_type": "code",
     "collapsed": false,
     "input": [
      "for i in range(100):\n",
      "    !cp ./cloudnshadows_623_812_70_4096_4096.png ./frames/cloudnshadows{\"%02d\"%i}_623_812_70_4096_4096.png"
     ],
     "language": "python",
     "metadata": {},
     "outputs": [],
     "prompt_number": 11
    },
    {
     "cell_type": "code",
     "collapsed": false,
     "input": [
      "!ffmpeg -r 20 -i ./frames/cloudnshadows%02d_623_812_70_4096_4096.png -r 20 -c:v libtheora cloudnshadows_623_812_70_4096_4096.ogv"
     ],
     "language": "python",
     "metadata": {},
     "outputs": [
      {
       "output_type": "stream",
       "stream": "stdout",
       "text": [
        "ffmpeg version 2.5.4 Copyright (c) 2000-2015 the FFmpeg developers\r\n",
        "  built on May  6 2015 14:33:52 with Apple LLVM version 6.0 (clang-600.0.56) (based on LLVM 3.5svn)\r\n",
        "  configuration: --prefix=/opt/boxen/homebrew/Cellar/ffmpeg/2.5.4 --enable-shared --enable-pthreads --enable-gpl --enable-version3 --enable-hardcoded-tables --enable-avresample --cc=clang --host-cflags= --host-ldflags= --enable-libx264 --enable-libmp3lame --enable-libvo-aacenc --enable-libxvid --enable-libtheora --enable-vda\r\n",
        "  libavutil      54. 15.100 / 54. 15.100\r\n",
        "  libavcodec     56. 13.100 / 56. 13.100\r\n",
        "  libavformat    56. 15.102 / 56. 15.102\r\n",
        "  libavdevice    56.  3.100 / 56.  3.100\r\n",
        "  libavfilter     5.  2.103 /  5.  2.103\r\n",
        "  libavresample   2.  1.  0 /  2.  1.  0\r\n",
        "  libswscale      3.  1.101 /  3.  1.101\r\n",
        "  libswresample   1.  1.100 /  1.  1.100\r\n",
        "  libpostproc    53.  3.100 / 53.  3.100\r\n"
       ]
      },
      {
       "output_type": "stream",
       "stream": "stdout",
       "text": [
        "Input #0, image2, from './frames/cloudnshadows%02d_623_812_70_4096_4096.png':\r\n",
        "  Duration: 00:00:04.00, start: 0.000000, bitrate: N/A\r\n",
        "    Stream #0:0: Video: png, rgb24, 4096x4096, 25 tbr, 25 tbn, 25 tbc\r\n"
       ]
      },
      {
       "output_type": "stream",
       "stream": "stdout",
       "text": [
        "Output #0, ogg, to 'cloudnshadows_623_812_70_4096_4096.ogv':\r\n",
        "  Metadata:\r\n",
        "    encoder         : Lavf56.15.102\r\n",
        "    Stream #0:0: Video: theora (libtheora), yuv444p, 4096x4096, q=2-31, 200 kb/s, 20 fps, 20 tbn, 20 tbc\r\n",
        "    Metadata:\r\n",
        "      encoder         : Lavc56.13.100 libtheora\r\n",
        "Stream mapping:\r\n",
        "  Stream #0:0 -> #0:0 (png (native) -> theora (libtheora))\r\n",
        "Press [q] to stop, [?] for help\r\n"
       ]
      },
      {
       "output_type": "stream",
       "stream": "stdout",
       "text": [
        "frame=    2 fps=0.5 q=0.0 size=     258kB time=00:00:00.10 bitrate=21168.5kbits/s    \r"
       ]
      },
      {
       "output_type": "stream",
       "stream": "stdout",
       "text": [
        "frame=    3 fps=0.4 q=0.0 size=     258kB time=00:00:00.15 bitrate=14112.3kbits/s    \r"
       ]
      },
      {
       "output_type": "stream",
       "stream": "stdout",
       "text": [
        "frame=    4 fps=0.4 q=0.0 size=     258kB time=00:00:00.20 bitrate=10584.2kbits/s    \r"
       ]
      },
      {
       "output_type": "stream",
       "stream": "stdout",
       "text": [
        "frame=    5 fps=0.4 q=0.0 size=     258kB time=00:00:00.25 bitrate=8467.4kbits/s    \r"
       ]
      },
      {
       "output_type": "stream",
       "stream": "stdout",
       "text": [
        "frame=    6 fps=0.4 q=0.0 size=     258kB time=00:00:00.30 bitrate=7056.2kbits/s    \r"
       ]
      },
      {
       "output_type": "stream",
       "stream": "stdout",
       "text": [
        "frame=    7 fps=0.4 q=0.0 size=     258kB time=00:00:00.35 bitrate=6048.1kbits/s    \r"
       ]
      },
      {
       "output_type": "stream",
       "stream": "stdout",
       "text": [
        "frame=    8 fps=0.4 q=0.0 size=     258kB time=00:00:00.40 bitrate=5292.1kbits/s    \r"
       ]
      },
      {
       "output_type": "stream",
       "stream": "stdout",
       "text": [
        "frame=    9 fps=0.4 q=0.0 size=     258kB time=00:00:00.45 bitrate=4704.1kbits/s    \r"
       ]
      },
      {
       "output_type": "stream",
       "stream": "stdout",
       "text": [
        "frame=   10 fps=0.4 q=0.0 size=     258kB time=00:00:00.50 bitrate=4233.7kbits/s    \r"
       ]
      },
      {
       "output_type": "stream",
       "stream": "stdout",
       "text": [
        "frame=   11 fps=0.4 q=0.0 size=     258kB time=00:00:00.55 bitrate=3848.8kbits/s    \r"
       ]
      },
      {
       "output_type": "stream",
       "stream": "stdout",
       "text": [
        "frame=   12 fps=0.4 q=0.0 size=     258kB time=00:00:00.60 bitrate=3528.1kbits/s    \r"
       ]
      },
      {
       "output_type": "stream",
       "stream": "stdout",
       "text": [
        "frame=   13 fps=0.4 q=0.0 size=     554kB time=00:00:00.65 bitrate=6983.4kbits/s    \r"
       ]
      },
      {
       "output_type": "stream",
       "stream": "stdout",
       "text": [
        "frame=   14 fps=0.4 q=0.0 size=     554kB time=00:00:00.70 bitrate=6484.6kbits/s    \r"
       ]
      },
      {
       "output_type": "stream",
       "stream": "stdout",
       "text": [
        "frame=   15 fps=0.4 q=0.0 size=     554kB time=00:00:00.75 bitrate=6052.3kbits/s    \r"
       ]
      },
      {
       "output_type": "stream",
       "stream": "stdout",
       "text": [
        "frame=   16 fps=0.4 q=0.0 size=     554kB time=00:00:00.80 bitrate=5674.0kbits/s    \r"
       ]
      },
      {
       "output_type": "stream",
       "stream": "stdout",
       "text": [
        "frame=   17 fps=0.4 q=0.0 size=     554kB time=00:00:00.85 bitrate=5340.2kbits/s    \r"
       ]
      },
      {
       "output_type": "stream",
       "stream": "stdout",
       "text": [
        "frame=   18 fps=0.4 q=0.0 size=     554kB time=00:00:00.90 bitrate=5043.6kbits/s    \r"
       ]
      },
      {
       "output_type": "stream",
       "stream": "stdout",
       "text": [
        "frame=   19 fps=0.4 q=0.0 size=     554kB time=00:00:00.95 bitrate=4778.1kbits/s    \r"
       ]
      },
      {
       "output_type": "stream",
       "stream": "stdout",
       "text": [
        "frame=   20 fps=0.4 q=0.0 size=     554kB time=00:00:01.00 bitrate=4539.2kbits/s    \r"
       ]
      },
      {
       "output_type": "stream",
       "stream": "stdout",
       "text": [
        "frame=   21 fps=0.4 q=0.0 size=     554kB time=00:00:01.05 bitrate=4323.1kbits/s    \r"
       ]
      },
      {
       "output_type": "stream",
       "stream": "stdout",
       "text": [
        "frame=   22 fps=0.4 q=0.0 size=     554kB time=00:00:01.10 bitrate=4126.6kbits/s    \r"
       ]
      },
      {
       "output_type": "stream",
       "stream": "stdout",
       "text": [
        "frame=   23 fps=0.4 q=0.0 size=     554kB time=00:00:01.15 bitrate=3947.1kbits/s    \r"
       ]
      },
      {
       "output_type": "stream",
       "stream": "stdout",
       "text": [
        "frame=   24 fps=0.4 q=0.0 size=     554kB time=00:00:01.20 bitrate=3782.7kbits/s    \r"
       ]
      },
      {
       "output_type": "stream",
       "stream": "stdout",
       "text": [
        "frame=   25 fps=0.4 q=0.0 size=     850kB time=00:00:01.25 bitrate=5567.5kbits/s    \r"
       ]
      },
      {
       "output_type": "stream",
       "stream": "stdout",
       "text": [
        "frame=   26 fps=0.4 q=0.0 size=     850kB time=00:00:01.30 bitrate=5353.4kbits/s    \r"
       ]
      },
      {
       "output_type": "stream",
       "stream": "stdout",
       "text": [
        "frame=   27 fps=0.4 q=0.0 size=     850kB time=00:00:01.35 bitrate=5155.1kbits/s    \r"
       ]
      },
      {
       "output_type": "stream",
       "stream": "stdout",
       "text": [
        "frame=   28 fps=0.4 q=0.0 size=     850kB time=00:00:01.40 bitrate=4971.0kbits/s    \r"
       ]
      },
      {
       "output_type": "stream",
       "stream": "stdout",
       "text": [
        "frame=   29 fps=0.4 q=0.0 size=     850kB time=00:00:01.45 bitrate=4799.6kbits/s    \r"
       ]
      },
      {
       "output_type": "stream",
       "stream": "stdout",
       "text": [
        "frame=   30 fps=0.4 q=0.0 size=     850kB time=00:00:01.50 bitrate=4639.6kbits/s    \r"
       ]
      },
      {
       "output_type": "stream",
       "stream": "stdout",
       "text": [
        "frame=   31 fps=0.4 q=0.0 size=     850kB time=00:00:01.55 bitrate=4489.9kbits/s    \r"
       ]
      },
      {
       "output_type": "stream",
       "stream": "stdout",
       "text": [
        "frame=   32 fps=0.4 q=0.0 size=     850kB time=00:00:01.60 bitrate=4349.6kbits/s    \r"
       ]
      },
      {
       "output_type": "stream",
       "stream": "stdout",
       "text": [
        "frame=   33 fps=0.4 q=0.0 size=     850kB time=00:00:01.65 bitrate=4217.8kbits/s    \r"
       ]
      },
      {
       "output_type": "stream",
       "stream": "stdout",
       "text": [
        "frame=   34 fps=0.4 q=0.0 size=     850kB time=00:00:01.70 bitrate=4093.7kbits/s    \r"
       ]
      },
      {
       "output_type": "stream",
       "stream": "stdout",
       "text": [
        "frame=   35 fps=0.4 q=0.0 size=     850kB time=00:00:01.75 bitrate=3976.8kbits/s    \r"
       ]
      },
      {
       "output_type": "stream",
       "stream": "stdout",
       "text": [
        "frame=   36 fps=0.4 q=0.0 size=     850kB time=00:00:01.80 bitrate=3866.3kbits/s    \r"
       ]
      },
      {
       "output_type": "stream",
       "stream": "stdout",
       "text": [
        "frame=   37 fps=0.4 q=0.0 size=    1145kB time=00:00:01.85 bitrate=5070.0kbits/s    \r"
       ]
      },
      {
       "output_type": "stream",
       "stream": "stdout",
       "text": [
        "frame=   38 fps=0.4 q=0.0 size=    1145kB time=00:00:01.90 bitrate=4936.6kbits/s    \r"
       ]
      },
      {
       "output_type": "stream",
       "stream": "stdout",
       "text": [
        "frame=   39 fps=0.4 q=0.0 size=    1145kB time=00:00:01.95 bitrate=4810.0kbits/s    \r"
       ]
      },
      {
       "output_type": "stream",
       "stream": "stdout",
       "text": [
        "frame=   40 fps=0.4 q=0.0 size=    1145kB time=00:00:02.00 bitrate=4689.8kbits/s    \r"
       ]
      },
      {
       "output_type": "stream",
       "stream": "stdout",
       "text": [
        "frame=   41 fps=0.4 q=0.0 size=    1145kB time=00:00:02.05 bitrate=4575.4kbits/s    \r"
       ]
      },
      {
       "output_type": "stream",
       "stream": "stdout",
       "text": [
        "frame=   42 fps=0.4 q=0.0 size=    1145kB time=00:00:02.10 bitrate=4466.4kbits/s    \r"
       ]
      },
      {
       "output_type": "stream",
       "stream": "stdout",
       "text": [
        "frame=   43 fps=0.4 q=0.0 size=    1145kB time=00:00:02.15 bitrate=4362.6kbits/s    \r"
       ]
      },
      {
       "output_type": "stream",
       "stream": "stdout",
       "text": [
        "frame=   44 fps=0.4 q=0.0 size=    1145kB time=00:00:02.20 bitrate=4263.4kbits/s    \r"
       ]
      },
      {
       "output_type": "stream",
       "stream": "stdout",
       "text": [
        "frame=   45 fps=0.4 q=0.0 size=    1145kB time=00:00:02.25 bitrate=4168.7kbits/s    \r"
       ]
      },
      {
       "output_type": "stream",
       "stream": "stdout",
       "text": [
        "frame=   46 fps=0.4 q=0.0 size=    1145kB time=00:00:02.30 bitrate=4078.1kbits/s    \r"
       ]
      },
      {
       "output_type": "stream",
       "stream": "stdout",
       "text": [
        "frame=   47 fps=0.4 q=0.0 size=    1145kB time=00:00:02.35 bitrate=3991.3kbits/s    \r"
       ]
      },
      {
       "output_type": "stream",
       "stream": "stdout",
       "text": [
        "frame=   48 fps=0.4 q=0.0 size=    1145kB time=00:00:02.40 bitrate=3908.1kbits/s    \r"
       ]
      },
      {
       "output_type": "stream",
       "stream": "stdout",
       "text": [
        "frame=   49 fps=0.4 q=0.0 size=    1440kB time=00:00:02.45 bitrate=4816.2kbits/s    \r"
       ]
      },
      {
       "output_type": "stream",
       "stream": "stdout",
       "text": [
        "frame=   50 fps=0.4 q=0.0 size=    1440kB time=00:00:02.50 bitrate=4719.9kbits/s    \r"
       ]
      },
      {
       "output_type": "stream",
       "stream": "stdout",
       "text": [
        "frame=   51 fps=0.4 q=0.0 size=    1440kB time=00:00:02.55 bitrate=4627.3kbits/s    \r"
       ]
      },
      {
       "output_type": "stream",
       "stream": "stdout",
       "text": [
        "frame=   52 fps=0.4 q=0.0 size=    1440kB time=00:00:02.60 bitrate=4538.3kbits/s    \r"
       ]
      },
      {
       "output_type": "stream",
       "stream": "stdout",
       "text": [
        "frame=   53 fps=0.4 q=0.0 size=    1440kB time=00:00:02.65 bitrate=4452.7kbits/s    \r"
       ]
      },
      {
       "output_type": "stream",
       "stream": "stdout",
       "text": [
        "frame=   54 fps=0.4 q=0.0 size=    1440kB time=00:00:02.70 bitrate=4370.3kbits/s    \r"
       ]
      },
      {
       "output_type": "stream",
       "stream": "stdout",
       "text": [
        "frame=   55 fps=0.4 q=0.0 size=    1440kB time=00:00:02.75 bitrate=4290.8kbits/s    \r"
       ]
      },
      {
       "output_type": "stream",
       "stream": "stdout",
       "text": [
        "frame=   56 fps=0.4 q=0.0 size=    1440kB time=00:00:02.80 bitrate=4214.2kbits/s    \r"
       ]
      },
      {
       "output_type": "stream",
       "stream": "stdout",
       "text": [
        "frame=   57 fps=0.4 q=0.0 size=    1440kB time=00:00:02.85 bitrate=4140.2kbits/s    \r"
       ]
      },
      {
       "output_type": "stream",
       "stream": "stdout",
       "text": [
        "frame=   58 fps=0.4 q=0.0 size=    1440kB time=00:00:02.90 bitrate=4068.9kbits/s    \r"
       ]
      },
      {
       "output_type": "stream",
       "stream": "stdout",
       "text": [
        "frame=   59 fps=0.4 q=0.0 size=    1440kB time=00:00:02.95 bitrate=3999.9kbits/s    \r"
       ]
      },
      {
       "output_type": "stream",
       "stream": "stdout",
       "text": [
        "frame=   60 fps=0.4 q=0.0 size=    1440kB time=00:00:03.00 bitrate=3933.2kbits/s    \r"
       ]
      },
      {
       "output_type": "stream",
       "stream": "stdout",
       "text": [
        "frame=   61 fps=0.4 q=0.0 size=    1736kB time=00:00:03.05 bitrate=4662.2kbits/s    \r"
       ]
      },
      {
       "output_type": "stream",
       "stream": "stdout",
       "text": [
        "frame=   62 fps=0.4 q=0.0 size=    1736kB time=00:00:03.10 bitrate=4587.0kbits/s    \r"
       ]
      },
      {
       "output_type": "stream",
       "stream": "stdout",
       "text": [
        "frame=   63 fps=0.4 q=0.0 size=    1736kB time=00:00:03.15 bitrate=4514.2kbits/s    \r"
       ]
      },
      {
       "output_type": "stream",
       "stream": "stdout",
       "text": [
        "frame=   64 fps=0.4 q=0.0 size=    1736kB time=00:00:03.20 bitrate=4443.7kbits/s    \r"
       ]
      },
      {
       "output_type": "stream",
       "stream": "stdout",
       "text": [
        "frame=   65 fps=0.4 q=0.0 size=    1736kB time=00:00:03.25 bitrate=4375.3kbits/s    \r"
       ]
      },
      {
       "output_type": "stream",
       "stream": "stdout",
       "text": [
        "frame=   66 fps=0.4 q=0.0 size=    1736kB time=00:00:03.30 bitrate=4309.0kbits/s    \r"
       ]
      },
      {
       "output_type": "stream",
       "stream": "stdout",
       "text": [
        "frame=   67 fps=0.4 q=0.0 size=    1736kB time=00:00:03.35 bitrate=4244.7kbits/s    \r"
       ]
      },
      {
       "output_type": "stream",
       "stream": "stdout",
       "text": [
        "frame=   68 fps=0.4 q=0.0 size=    1736kB time=00:00:03.40 bitrate=4182.3kbits/s    \r"
       ]
      },
      {
       "output_type": "stream",
       "stream": "stdout",
       "text": [
        "frame=   69 fps=0.4 q=0.0 size=    1736kB time=00:00:03.45 bitrate=4121.7kbits/s    \r"
       ]
      },
      {
       "output_type": "stream",
       "stream": "stdout",
       "text": [
        "frame=   70 fps=0.4 q=0.0 size=    1736kB time=00:00:03.50 bitrate=4062.8kbits/s    \r"
       ]
      },
      {
       "output_type": "stream",
       "stream": "stdout",
       "text": [
        "frame=   71 fps=0.4 q=0.0 size=    1736kB time=00:00:03.55 bitrate=4005.6kbits/s    \r"
       ]
      },
      {
       "output_type": "stream",
       "stream": "stdout",
       "text": [
        "frame=   72 fps=0.4 q=0.0 size=    1736kB time=00:00:03.60 bitrate=3950.0kbits/s    \r"
       ]
      },
      {
       "output_type": "stream",
       "stream": "stdout",
       "text": [
        "frame=   73 fps=0.4 q=0.0 size=    2031kB time=00:00:03.65 bitrate=4558.9kbits/s    \r"
       ]
      },
      {
       "output_type": "stream",
       "stream": "stdout",
       "text": [
        "frame=   74 fps=0.4 q=0.0 size=    2031kB time=00:00:03.70 bitrate=4497.3kbits/s    \r"
       ]
      },
      {
       "output_type": "stream",
       "stream": "stdout",
       "text": [
        "frame=   75 fps=0.4 q=0.0 size=    2031kB time=00:00:03.75 bitrate=4437.3kbits/s    \r"
       ]
      },
      {
       "output_type": "stream",
       "stream": "stdout",
       "text": [
        "frame=   76 fps=0.4 q=0.0 size=    2031kB time=00:00:03.80 bitrate=4378.9kbits/s    \r"
       ]
      },
      {
       "output_type": "stream",
       "stream": "stdout",
       "text": [
        "frame=   77 fps=0.4 q=0.0 size=    2031kB time=00:00:03.85 bitrate=4322.1kbits/s    \r"
       ]
      },
      {
       "output_type": "stream",
       "stream": "stdout",
       "text": [
        "frame=   78 fps=0.4 q=0.0 size=    2031kB time=00:00:03.90 bitrate=4266.7kbits/s    \r"
       ]
      },
      {
       "output_type": "stream",
       "stream": "stdout",
       "text": [
        "frame=   79 fps=0.4 q=0.0 size=    2031kB time=00:00:03.95 bitrate=4212.7kbits/s    \r"
       ]
      },
      {
       "output_type": "stream",
       "stream": "stdout",
       "text": [
        "frame=   80 fps=0.4 q=0.0 size=    2031kB time=00:00:04.00 bitrate=4160.0kbits/s    \r"
       ]
      },
      {
       "output_type": "stream",
       "stream": "stdout",
       "text": [
        "frame=   81 fps=0.4 q=0.0 size=    2031kB time=00:00:04.05 bitrate=4108.6kbits/s    \r"
       ]
      },
      {
       "output_type": "stream",
       "stream": "stdout",
       "text": [
        "frame=   82 fps=0.4 q=0.0 size=    2031kB time=00:00:04.10 bitrate=4058.5kbits/s    \r"
       ]
      },
      {
       "output_type": "stream",
       "stream": "stdout",
       "text": [
        "frame=   83 fps=0.4 q=0.0 size=    2031kB time=00:00:04.15 bitrate=4009.6kbits/s    \r"
       ]
      },
      {
       "output_type": "stream",
       "stream": "stdout",
       "text": [
        "frame=   84 fps=0.4 q=0.0 size=    2031kB time=00:00:04.20 bitrate=3961.9kbits/s    \r"
       ]
      },
      {
       "output_type": "stream",
       "stream": "stdout",
       "text": [
        "frame=   85 fps=0.4 q=0.0 size=    2327kB time=00:00:04.25 bitrate=4484.7kbits/s    \r"
       ]
      },
      {
       "output_type": "stream",
       "stream": "stdout",
       "text": [
        "frame=   86 fps=0.4 q=0.0 size=    2327kB time=00:00:04.30 bitrate=4432.6kbits/s    \r"
       ]
      },
      {
       "output_type": "stream",
       "stream": "stdout",
       "text": [
        "frame=   87 fps=0.4 q=0.0 size=    2327kB time=00:00:04.35 bitrate=4381.6kbits/s    \r"
       ]
      },
      {
       "output_type": "stream",
       "stream": "stdout",
       "text": [
        "frame=   88 fps=0.4 q=0.0 size=    2327kB time=00:00:04.40 bitrate=4331.9kbits/s    \r"
       ]
      },
      {
       "output_type": "stream",
       "stream": "stdout",
       "text": [
        "frame=   89 fps=0.4 q=0.0 size=    2327kB time=00:00:04.45 bitrate=4283.2kbits/s    \r"
       ]
      },
      {
       "output_type": "stream",
       "stream": "stdout",
       "text": [
        "frame=   90 fps=0.4 q=0.0 size=    2327kB time=00:00:04.50 bitrate=4235.6kbits/s    \r"
       ]
      },
      {
       "output_type": "stream",
       "stream": "stdout",
       "text": [
        "frame=   91 fps=0.4 q=0.0 size=    2327kB time=00:00:04.55 bitrate=4189.0kbits/s    \r"
       ]
      },
      {
       "output_type": "stream",
       "stream": "stdout",
       "text": [
        "frame=   92 fps=0.4 q=0.0 size=    2327kB time=00:00:04.60 bitrate=4143.5kbits/s    \r"
       ]
      },
      {
       "output_type": "stream",
       "stream": "stdout",
       "text": [
        "frame=   93 fps=0.4 q=0.0 size=    2327kB time=00:00:04.65 bitrate=4099.0kbits/s    \r"
       ]
      },
      {
       "output_type": "stream",
       "stream": "stdout",
       "text": [
        "frame=   94 fps=0.4 q=0.0 size=    2327kB time=00:00:04.70 bitrate=4055.4kbits/s    \r"
       ]
      },
      {
       "output_type": "stream",
       "stream": "stdout",
       "text": [
        "frame=   95 fps=0.4 q=0.0 size=    2327kB time=00:00:04.75 bitrate=4012.7kbits/s    \r"
       ]
      },
      {
       "output_type": "stream",
       "stream": "stdout",
       "text": [
        "frame=   96 fps=0.4 q=0.0 size=    2327kB time=00:00:04.80 bitrate=3970.9kbits/s    \r"
       ]
      },
      {
       "output_type": "stream",
       "stream": "stdout",
       "text": [
        "frame=   97 fps=0.4 q=0.0 size=    2622kB time=00:00:04.85 bitrate=4428.9kbits/s    \r"
       ]
      },
      {
       "output_type": "stream",
       "stream": "stdout",
       "text": [
        "frame=   98 fps=0.4 q=0.0 size=    2622kB time=00:00:04.90 bitrate=4383.7kbits/s    \r"
       ]
      },
      {
       "output_type": "stream",
       "stream": "stdout",
       "text": [
        "frame=   99 fps=0.4 q=0.0 size=    2622kB time=00:00:04.95 bitrate=4339.5kbits/s    \r"
       ]
      },
      {
       "output_type": "stream",
       "stream": "stdout",
       "text": [
        "frame=  100 fps=0.4 q=0.0 size=    2622kB time=00:00:05.00 bitrate=4296.1kbits/s    \r",
        "frame=  100 fps=0.4 q=0.0 size=    2622kB time=00:00:05.00 bitrate=4296.1kbits/s    \r",
        "frame=  100 fps=0.4 q=0.0 Lsize=    2662kB time=00:00:05.00 bitrate=4362.1kbits/s    \r\n",
        "video:2647kB audio:0kB subtitle:0kB other streams:0kB global headers:3kB muxing overhead: 0.573124%\r\n"
       ]
      }
     ],
     "prompt_number": 13
    }
   ],
   "metadata": {}
  }
 ]
}