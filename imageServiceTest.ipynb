{
 "metadata": {
  "name": "",
  "signature": "sha256:ff513c9e436d9606e2d2b2f94de92c7e68872872ecceb0e00ef03c6890f00c0b"
 },
 "nbformat": 3,
 "nbformat_minor": 0,
 "worksheets": [
  {
   "cells": [
    {
     "cell_type": "markdown",
     "metadata": {},
     "source": [
      "There are several stages:\n",
      "\n",
      "1. Get data from the threads server\n",
      "2. calculate the shadows\n",
      "3. munge shadows into data\n",
      "4. Post image back to server\n",
      "\n",
      "Lets just deal with 3 and 4 for now."
     ]
    },
    {
     "cell_type": "markdown",
     "metadata": {},
     "source": [
      "First lets load in the test cube to play with"
     ]
    },
    {
     "cell_type": "code",
     "collapsed": false,
     "input": [
      "import iris\n",
      "d = iris.load_cube(\"/Users/niall/Downloads/cloud_frac.nc\")"
     ],
     "language": "python",
     "metadata": {},
     "outputs": [],
     "prompt_number": 1
    },
    {
     "cell_type": "code",
     "collapsed": false,
     "input": [
      "print d"
     ],
     "language": "python",
     "metadata": {},
     "outputs": [
      {
       "output_type": "stream",
       "stream": "stdout",
       "text": [
        "Cloud fraction in a layer / (1)     (time: 2; model_level_number: 70; grid_latitude: 810; grid_longitude: 621)\n",
        "     Dimension coordinates:\n",
        "          time                           x                      -                  -                    -\n",
        "          model_level_number             -                      x                  -                    -\n",
        "          grid_latitude                  -                      -                  x                    -\n",
        "          grid_longitude                 -                      -                  -                    x\n",
        "     Auxiliary coordinates:\n",
        "          forecast_period                x                      -                  -                    -\n",
        "          level_height                   -                      x                  -                    -\n",
        "          sigma                          -                      x                  -                    -\n",
        "     Scalar coordinates:\n",
        "          forecast_reference_time: 2015-03-06 09:00:00\n",
        "     Attributes:\n",
        "          Conventions: CF-1.5\n",
        "          STASH: m01s00i266\n",
        "          source: Data from Met Office Unified Model\n",
        "          um_version: 9.0\n"
       ]
      }
     ],
     "prompt_number": 2
    },
    {
     "cell_type": "markdown",
     "metadata": {},
     "source": [
      "Rachel's shadows alorythm isn't quite ready for inclusion here, but she's made some tiled shadow fields which we will load now"
     ]
    },
    {
     "cell_type": "code",
     "collapsed": false,
     "input": [
      "import png\n",
      "import numpy as np\n",
      "DATA_SOURCE = \"/Users/niall/Downloads/\"\n",
      "with open(DATA_SOURCE + \"lighting_noalpha.png\", 'r') as f:\n",
      "        r = png.Reader(f)\n",
      "        d = r.read()\n",
      "        image_array = np.vstack(d[2])\n",
      "tiled_shadows = np.concatenate([image_array[:, slice(0, None, 3), None], image_array[:, slice(1, None, 3), None]], 2)"
     ],
     "language": "python",
     "metadata": {},
     "outputs": [],
     "prompt_number": 22
    },
    {
     "cell_type": "markdown",
     "metadata": {},
     "source": [
      "And now dow to actually writing stuff"
     ]
    },
    {
     "cell_type": "code",
     "collapsed": false,
     "input": [
      "import iris\n",
      "import numpy as np\n",
      "import png\n",
      "import requests\n",
      "import io\n",
      "\n",
      "import sys\n",
      "sys.path.append(\".\")\n",
      "from threed_array_to_png import *\n",
      "\n",
      "iris.FUTURE.cell_datetime_objects = True\n",
      "\n",
      "DATA_SOURCE = \"/Users/niall/Downloads/\"\n",
      "IMAGE_DEST = \"http://ec2-52-16-246-202.eu-west-1.compute.amazonaws.com:9000/molab-3dwx-ds/images/\"\n",
      "\n",
      "def get_data_cube_in(meta_data):\n",
      "    alt_con = iris.Constraint(level_height=lambda c: c.point < 15000)\n",
      "    d = iris.load_cube(DATA_SOURCE + \"cloud_frac.nc\", alt_con)[0]\n",
      "    d.transpose([2, 1, 0])\n",
      "    d.data *= 255\n",
      "    return d\n",
      "\n",
      "def get_post_dict(cube):\n",
      "    payload = {'model_run_dt': cube.coord(\"forecast_reference_time\").cell(0).point.isoformat(),\n",
      "               'forecast_dt' : cube.coord(\"time\").cell(0).point.isoformat(),\n",
      "               'phenomenon' : cube.var_name}\n",
      "    return payload\n",
      "\n",
      "def get_shadows(data_cube):\n",
      "    # CALL CPU CODE HERE #\n",
      "    return \"\"\n",
      "\n",
      "def get_name(meta_data):\n",
      "    return \"cloud_frac.nc\"\n",
      "\n",
      "def create_image(meta_data):\n",
      "    \"\"\" \n",
      "    Retrieves earth science data, processes it, tiles it,\n",
      "    and finally posts it to the server as an 2D image that \n",
      "    can be read by the 3D viz client as a 3D texture.\n",
      "    \n",
      "    Args:\n",
      "        * meta_data (dict): a dictionary of metadata which\n",
      "            defines which data to act on\n",
      "    \n",
      "    \"\"\"\n",
      "    \n",
      "    cube_in = get_data_cube_in(meta_data)\n",
      "    shadows = get_shadows(cube_in)\n",
      "    \n",
      "    data_tiled = tile_array(cube_in.data, maxx=4096, maxy=4096, maxz=2, padxy=True)\n",
      "    shadows_tiled = tiled_shadows #tile_array(shadows, maxx=4096, maxy=4096, maxz=2, padxy=True)\n",
      "    data_out = np.concatenate([data_tiled, shadows_tiled], 2)\n",
      "\n",
      "    img = io.BytesIO(\"\")\n",
      "    \n",
      "    write_png(data_out, img)\n",
      "    \n",
      "    payload = get_post_dict(cube_in)\n",
      "    payload['data'] = img\n",
      "    \n",
      "    r = requests.post(IMAGE_DEST, payload)"
     ],
     "language": "python",
     "metadata": {},
     "outputs": [],
     "prompt_number": 13
    },
    {
     "cell_type": "markdown",
     "metadata": {},
     "source": [
      "Let break down the main function line by line"
     ]
    },
    {
     "cell_type": "code",
     "collapsed": false,
     "input": [
      "meta_data = \"\"\n",
      "\n",
      "cube_in = get_data_cube_in(meta_data)\n",
      "shadows = get_shadows(cube_in)\n",
      "\n",
      "data_tiled = tile_array(cube_in.data, maxx=4096, maxy=4096, maxz=2, padxy=True)\n",
      "shadows_tiled = tiled_shadows #tile_array(shadows, maxx=4096, maxy=4096, maxz=2, padxy=True)\n",
      "\n",
      "data_out = np.dstack([data_tiled, shadows_tiled])"
     ],
     "language": "python",
     "metadata": {},
     "outputs": [],
     "prompt_number": 34
    },
    {
     "cell_type": "markdown",
     "metadata": {},
     "source": [
      "We've now got some data to write out. Fist, we should check its the same as the previously calced stuff"
     ]
    },
    {
     "cell_type": "code",
     "collapsed": false,
     "input": [
      "this = data_out\n",
      "png_writer = png.Writer(height=4096, width=4096, bitdepth=8, alpha=\"RGBA\")\n",
      "with open(\"./test.png\", 'wb') as f:\n",
      "    flat_array = this.reshape(-1, 4096*4) #assuming RGBA i.e. 4 channels\n",
      "    png_writer.write(f, flat_array)"
     ],
     "language": "python",
     "metadata": {},
     "outputs": [],
     "prompt_number": 35
    },
    {
     "cell_type": "code",
     "collapsed": false,
     "input": [
      "for i in range(100):\n",
      "    !cp test.png ./frames/frame{\"%02d\" % i}.png    "
     ],
     "language": "python",
     "metadata": {},
     "outputs": [],
     "prompt_number": 38
    },
    {
     "cell_type": "code",
     "collapsed": false,
     "input": [
      "#img = io.BytesIO(\"\")\n",
      "\n",
      "img = \"./tmp.png\"\n",
      "write_png(data_out, img, height=4096, width=4096)\n",
      "\n",
      "payload = get_post_dict(cube_in)\n",
      "payload['data'] = img\n",
      "\n",
      "r = requests.post(IMAGE_DEST, payload)"
     ],
     "language": "python",
     "metadata": {},
     "outputs": [],
     "prompt_number": 14
    },
    {
     "cell_type": "code",
     "collapsed": false,
     "input": [
      "!ls"
     ],
     "language": "python",
     "metadata": {},
     "outputs": [
      {
       "output_type": "stream",
       "stream": "stdout",
       "text": [
        "LICENSE.md                             mungeDataShadows.py\r\n",
        "README.md                              mungeDataShadows.pyc\r\n",
        "bitEncodingData.ipynb                  requirements.txt\r\n",
        "cloudnshadows_623_812_70_4096_4096.ogv test.png\r\n",
        "cloudnshadows_623_812_70_4096_4096.png threed_array_to_png.py\r\n",
        "\u001b[34mframes\u001b[m\u001b[m                                 threed_array_to_png.pyc\r\n",
        "imageServiceTest.ipynb\r\n"
       ]
      }
     ],
     "prompt_number": 33
    },
    {
     "cell_type": "code",
     "collapsed": false,
     "input": [],
     "language": "python",
     "metadata": {},
     "outputs": []
    }
   ],
   "metadata": {}
  }
 ]
}